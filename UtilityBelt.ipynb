{
 "cells": [
  {
   "cell_type": "code",
   "execution_count": null,
   "id": "a9fb5323-f4e4-4f4a-8f42-3ce88bcc2d0f",
   "metadata": {},
   "outputs": [],
   "source": [
    "# Cell 1: Directory Navigation & Setup\n",
    "import os\n",
    "import sys\n",
    "\n",
    "print(\"╔══════════════════════════════╗\")\n",
    "print(\"║   Directory Configuration    ║\")\n",
    "print(\"╚══════════════════════════════╝\")\n",
    "\n"
   ]
  },
  {
   "cell_type": "code",
   "execution_count": null,
   "id": "c65ad3b5-9beb-44d7-a0ef-f51f6110c83f",
   "metadata": {},
   "outputs": [],
   "source": [
    "# Add to Python path\n",
    "sys.path.insert(0, repo_path)\n",
    "print(\"\\nPython path configured:\")\n",
    "print(sys.path)"
   ]
  },
  {
   "cell_type": "code",
   "execution_count": null,
   "id": "2be0d3c6-05e0-4a8f-8fba-ee1d761f81e0",
   "metadata": {},
   "outputs": [],
   "source": [
    "# Set working directory\n",
    "try:\n",
    "    os.chdir(repo_path)\n",
    "    print(f\"\\nCurrent directory: {os.getcwd()}\")\n",
    "    print(\"Directory contents:\")\n",
    "    !ls -lAh --color=auto\n",
    "except FileNotFoundError:\n",
    "    print(\"\\n╔════════════════════════════════╗\")\n",
    "    print(\"║ ERROR: Failed to set directory! ║\")\n",
    "    print(\"╚════════════════════════════════╝\")\n"
   ]
  },
  {
   "cell_type": "code",
   "execution_count": null,
   "id": "96664254-0d41-4c19-b37c-45fba9af0184",
   "metadata": {},
   "outputs": [],
   "source": [
    "# Force clone repo if missing\n",
    "repo_path = \"/roop-floyd\"\n",
    "if not os.path.exists(repo_path):\n",
    "    print(\"Cloning repository...\")\n",
    "    !git clone https://codeberg.org/remphan/ROOP-FLOYD.git {repo_path}\n",
    "else:\n",
    "    print(\"Repository already exists\")"
   ]
  },
  {
   "cell_type": "code",
   "execution_count": null,
   "id": "35db4f5d-37cd-4701-b486-1b464db31e4f",
   "metadata": {},
   "outputs": [],
   "source": [
    "# Cell 2: File Inspection & Search\n",
    "print(\"╔══════════════════════════════╗\")\n",
    "print(\"║    File System Diagnostics   ║\")\n",
    "print(\"╚══════════════════════════════╝\")\n",
    "\n",
    "def check_file(path):\n",
    "    \"\"\"Enhanced file checking with status symbols\"\"\"\n",
    "    if os.path.exists(path):\n",
    "        print(f\"✔️  Found: {path}\")\n",
    "        !ls -lh \"{path}\"\n",
    "        return True\n",
    "    print(f\"❌ Missing: {path}\")\n",
    "    return False\n",
    "\n",
    "print(\"\\nEssential file check:\")\n",
    "check_file(f\"{repo_path}/preload.py\")\n",
    "check_file(f\"{repo_path}/requirements.txt\")\n",
    "check_file(f\"{repo_path}/run.py\")\n",
    "\n",
    "print(\"\\n╭────────────────────────────────────╮\")\n",
    "print(\"│       Repository Structure        │\")\n",
    "print(\"╰────────────────────────────────────╯\")\n",
    "!tree -L 2 -h --du {repo_path} || ls -lRh {repo_path}  # Fallback if tree isn't available"
   ]
  },
  {
   "cell_type": "code",
   "execution_count": null,
   "id": "7ad65510-8f0e-4ccb-b754-c25ed25f40f6",
   "metadata": {},
   "outputs": [],
   "source": [
    "# Cell 3: Python Environment Verification\n",
    "print(\"╔══════════════════════════════╗\")\n",
    "print(\"║  Environment Configuration   ║\")\n",
    "print(\"╚══════════════════════════════╝\")\n",
    "\n",
    "print(\"\\nCUDA Path Verification:\")\n",
    "!echo -e \"CUDA_HOME: $CUDA_HOME\\nLD_LIBRARY_PATH: $LD_LIBRARY_PATH\"\n",
    "\n",
    "print(\"\\nPython Package Versions:\")\n",
    "packages = [\"torch\", \"torchvision\", \"onnxruntime\", \"insightface\"]\n",
    "for pkg in packages:\n",
    "    try:\n",
    "        __import__(pkg)\n",
    "        print(f\"✓ {pkg}: {eval(pkg + '.__version__')}\")\n",
    "    except ImportError:\n",
    "        print(f\"✗ {pkg}: Not installed\")\n",
    "    except AttributeError:\n",
    "        print(f\"✓ {pkg}: Installed (version unknown)\")"
   ]
  },
  {
   "cell_type": "code",
   "execution_count": null,
   "id": "fc73d414-53c8-48f3-835c-9fd1367ad110",
   "metadata": {},
   "outputs": [],
   "source": [
    "# Cell 4: Advanced File Operations\n",
    "from IPython.display import Markdown\n",
    "\n",
    "def search_files(pattern, path=repo_path):\n",
    "    \"\"\"Safe file search with pattern matching\"\"\"\n",
    "    print(f\"Searching for '{pattern}' in {path}...\")\n",
    "    !find \"{path}\" -name \"{pattern}\" 2>/dev/null\n",
    "    \n",
    "def show_file(path, lines=10):\n",
    "    \"\"\"File preview with error handling\"\"\"\n",
    "    if check_file(path):\n",
    "        print(f\"\\nFirst {lines} lines of {path}:\")\n",
    "        print(\"─\" * 50)\n",
    "        !head -n {lines} \"{path}\"\n",
    "        print(\"─\" * 50)\n",
    "\n",
    "# Example usage:\n",
    "print(\"╔══════════════════════════════╗\")\n",
    "print(\"║      File Operations         ║\")\n",
    "print(\"╚══════════════════════════════╝\")\n",
    "show_file(f\"{repo_path}/preload.py\")\n",
    "search_files(\"*.py\")"
   ]
  },
  {
   "cell_type": "code",
   "execution_count": null,
   "id": "eaadcb61-1bfe-4ad3-b24a-2e944cc400f5",
   "metadata": {},
   "outputs": [],
   "source": [
    "# Cell 5: Troubleshooting Checklist\n",
    "print(\"╔══════════════════════════════╗\")\n",
    "print(\"║  Troubleshooting Checklist   ║\")\n",
    "print(\"╚══════════════════════════════╝\")\n",
    "\n",
    "Markdown('''\n",
    "**Quick Diagnostics Checklist:**\n",
    "\n",
    "1. ✅ Repository exists: `!ls /roop-floyd`\n",
    "2. ✅ Correct working directory: `!pwd`\n",
    "3. ✅ Python path contains repo: `import sys; print(sys.path)`\n",
    "4. ✅ CUDA visibility: `!nvidia-smi`\n",
    "5. ✅ Critical files exist: `preload.py`, `requirements.txt`\n",
    "6. ✅ Dependencies installed: `!pip list | grep -E 'torch|onnx'`\n",
    "\n",
    "**Common Fixes:**\n",
    "```bash\n",
    "# Force rebuild environment\n",
    "!cd /roop-floyd && pip install -r requirements.txt --force-reinstall\n",
    "\n",
    "# Reset directory permissions\n",
    "!chmod -R 755 /roop-floyd\n",
    "\n",
    "# Full cleanup & reinstall\n",
    "!rm -rf ~/.cache/pip && pip cache purge"
   ]
  },
  {
   "cell_type": "code",
   "execution_count": null,
   "id": "b2559a10-9368-49c4-ac21-18181b770d60",
   "metadata": {},
   "outputs": [],
   "source": [
    "\n",
    "This version features:\n",
    "1. Clear visual separation with Unicode box-drawing characters\n",
    "2. Error handling and status indicators (✅/❌)\n",
    "3. Consolidated functionality into logical groups\n",
    "4. Fallback commands for different environments\n",
    "5. Self-contained cells that can be run in any order\n",
    "6. Helpful tooltips and auto-checks\n",
    "7. Markdown-formatted troubleshooting guide\n",
    "8. Safe path handling with quotes\n",
    "9. Colorized terminal output where supported\n",
    "\n",
    "To use, simply run the cells sequentially. Each cell will validate its own requirements and provide clear success/error feedback."
   ]
  }
 ],
 "metadata": {
  "kernelspec": {
   "display_name": "Python 3 (ipykernel)",
   "language": "python",
   "name": "python3"
  },
  "language_info": {
   "codemirror_mode": {
    "name": "ipython",
    "version": 3
   },
   "file_extension": ".py",
   "mimetype": "text/x-python",
   "name": "python",
   "nbconvert_exporter": "python",
   "pygments_lexer": "ipython3",
   "version": "3.10.13"
  }
 },
 "nbformat": 4,
 "nbformat_minor": 5
}
