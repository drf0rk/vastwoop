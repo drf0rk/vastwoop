{
  "cells": [
    {
      "cell_type": "markdown",
      "metadata": {},
      "source": "# ROOP-FLOYD Environment Check\n\nThis notebook helps verify your ROOP-FLOYD installation is working correctly on Vast.ai"
    },
    {
      "cell_type": "markdown",
      "metadata": {},
      "source": "## 1. Check System Information"
    },
    {
      "cell_type": "code",
      "execution_count": null,
      "metadata": {},
      "source": "!nvidia-smi",
      "outputs": []
    },
    {
      "cell_type": "code",
      "execution_count": null,
      "metadata": {},
      "source": "!python -c \"import platform; print('Python version:', platform.python_version())\"",
      "outputs": []
    },
    {
      "cell_type": "code",
      "execution_count": null,
      "metadata": {},
      "source": "!df -h",
      "outputs": []
    },
    {
      "cell_type": "markdown",
      "metadata": {},
      "source": "## 2. Verify Torch and CUDA"
    },
    {
      "cell_type": "code",
      "execution_count": null,
      "metadata": {},
      "source": "import torch\nprint(f\"PyTorch version: {torch.__version__}\")\nprint(f\"CUDA available: {torch.cuda.is_available()}\")\nif torch.cuda.is_available():\n    print(f\"CUDA version: {torch.version.cuda}\")\n    print(f\"GPU device: {torch.cuda.get_device_name(0)}\")",
      "outputs": []
    },
    {
      "cell_type": "markdown",
      "metadata": {},
      "source": "## 3. Check ONNX Runtime"
    },
    {
      "cell_type": "code",
      "execution_count": null,
      "metadata": {},
      "source": "import onnxruntime as ort\nprint(f\"ONNX Runtime version: {ort.__version__}\")\nprint(f\"Available providers: {ort.get_available_providers()}\")",
      "outputs": []
    },
    {
      "cell_type": "markdown",
      "metadata": {},
      "source": "## 4. Verify Required Libraries"
    },
    {
      "cell_type": "code",
      "execution_count": null,
      "metadata": {},
      "source": "!pip list | grep -E 'gradio|opencv|insightface|numpy'",
      "outputs": []
    },
    {
      "cell_type": "markdown",
      "metadata": {},
      "source": "## 5. Fix Import Order (If Needed)"
    },
    {
      "cell_type": "code",
      "execution_count": null,
      "metadata": {},
      "source": "# Create preload.py if it doesn't exist\n!if [ ! -f \"/roop-floyd/preload.py\" ]; then echo -e 'import torch\\nimport onnxruntime\\nprint(\"Preloaded torch and onnxruntime in the correct order\")' > /roop-floyd/preload.py; fi\n\n# Check if run.py already imports preload\n!if ! grep -q \"import preload\" \"/roop-floyd/run.py\"; then sed -i '1s/^/import preload\\n/' \"/roop-floyd/run.py\"; fi\n\nprint(\"Import order check complete\")",
      "outputs": []
    },
    {
      "cell_type": "markdown",
      "metadata": {},
      "source": "## 6. Check Settings (server_share should be True)"
    },
    {
      "cell_type": "code",
      "execution_count": null,
      "metadata": {},
      "source": "import os\nimport yaml\n\n# Function to check settings.py\ndef check_settings_py():\n    try:\n        with open('/roop-floyd/settings.py', 'r') as f:\n            content = f.read()\n            if 'self.server_share = self.default_get(data, \\'server_share\\', True)' in content:\n                print(\"settings.py: server_share is set to True ✓\")\n            else:\n                print(\"settings.py: server_share is NOT set to True ⨯\")\n    except Exception as e:\n        print(f\"Error reading settings.py: {e}\")\n\n# Function to check settings.yaml if it exists\ndef check_settings_yaml():\n    try:\n        if os.path.exists('/roop-floyd/settings.yaml'):\n            with open('/roop-floyd/settings.yaml', 'r') as f:\n                data = yaml.safe_load(f)\n                if data and 'server_share' in data and data['server_share'] is True:\n                    print(\"settings.yaml: server_share is set to True ✓\")\n                else:\n                    print(\"settings.yaml: server_share is NOT set to True ⨯\")\n        else:\n            print(\"settings.yaml doesn't exist yet, will be created on first run\")\n    except Exception as e:\n        print(f\"Error reading settings.yaml: {e}\")\n\ncheck_settings_py()\ncheck_settings_yaml()",
      "outputs": []
    },
    {
      "cell_type": "markdown",
      "metadata": {},
      "source": "## 7. Fix Settings.py (if needed)"
    },
    {
      "cell_type": "code",
      "execution_count": null,
      "metadata": {},
      "source": "!sed -i \"/^\\s*self\\.server_share\\s*=\\s*self\\.default_get(.*,\\s*'server_share',\\s*False)/c\\        self.server_share = self.default_get(data, 'server_share', True)\" \"/roop-floyd/settings.py\"\nprint(\"Updated settings.py\")",
      "outputs": []
    },
    {
      "cell_type": "markdown",
      "metadata": {},
      "source": "## 8. Start ROOP-FLOYD Server"
    },
    {
      "cell_type": "code",
      "execution_count": null,
      "metadata": {},
      "source": "# This will block until the server is stopped\n!cd /roop-floyd && python run.py",
      "outputs": []
    }
  ],
  "metadata": {
    "kernelspec": {
      "display_name": "Python 3",
      "language": "python",
      "name": "python3"
    },
    "language_info": {
      "codemirror_mode": {
        "name": "ipython",
        "version": 3
      },
      "file_extension": ".py",
      "mimetype": "text/x-python",
      "name": "python",
      "nbconvert_exporter": "python",
      "pygments_lexer": "ipython3",
      "version": "3.10.12"
    }
  },
  "nbformat": 4,
  "nbformat_minor": 4
}